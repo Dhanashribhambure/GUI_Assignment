{
 "cells": [
  {
   "cell_type": "code",
   "execution_count": 30,
   "id": "e823f4b8",
   "metadata": {},
   "outputs": [
    {
     "name": "stdout",
     "output_type": "stream",
     "text": [
      "Enter the Word:got\n",
      "Did you mean gout instead? Enter Y if YES else N if NO Y\n",
      "A medical condition characterized by recurrent attacks of acute inflammatory arthritis — a red, tender, hot, swollen joint.\n"
     ]
    }
   ],
   "source": [
    "# user made a speling mistake \n",
    "import json\n",
    "from difflib import get_close_matches\n",
    "\n",
    "data=json.load(open(\"data.json\"))\n",
    "def get_meaning(w):\n",
    "    w=w.lower() \n",
    "    if w in data:\n",
    "        return data[w]\n",
    "    elif w.title() in data:\n",
    "        return data[w.title()]\n",
    "    elif w.upper() in data:\n",
    "        return data[w.upper()]\n",
    "    elif len(get_close_matches(w,data.keys()))>0:\n",
    "        yn=input(\"Did you mean %s instead? Enter Y if YES else N if NO \"%get_close_matches(w,data.keys())[0])\n",
    "        if yn=='Y':\n",
    "            return data[get_close_matches(w,data.keys())[0]]\n",
    "        elif yn=='N':\n",
    "            return \" The word is not present!!\"\n",
    "        else:\n",
    "            return \"We didnt understand your Entry!!\"\n",
    "    else:\n",
    "        return \"The word doesn't exist.Please check it again!!!!\"\n",
    "word=input(\"Enter the Word:\")\n",
    "meaning=get_meaning(word)\n",
    "if type(meaning)==list:\n",
    "    for v in meaning:\n",
    "        print(v)\n",
    "else:\n",
    "    print(meaning)"
   ]
  },
  {
   "cell_type": "code",
   "execution_count": 26,
   "id": "ee3553ea",
   "metadata": {},
   "outputs": [],
   "source": []
  },
  {
   "cell_type": "code",
   "execution_count": 43,
   "id": "74088608",
   "metadata": {},
   "outputs": [],
   "source": [
    "from tkinter import *\n",
    "from tkinter import messagebox\n",
    "\n",
    "\n",
    "import json\n",
    "from difflib import get_close_matches\n",
    "\n",
    "data=json.load(open(\"data.json\"))\n",
    "window=Tk()\n",
    "\n",
    "def find_word():\n",
    "    word=e2_value.get()\n",
    "    word=word.lower()\n",
    "    if word in data:\n",
    "        t1.delete(\"1.0\",END)\n",
    "        t1.insert(END,data[word])\n",
    "    elif word.title() in data:\n",
    "        t1.insert(END,data[word.title()])\n",
    "        \n",
    "    elif word.upper() in data:\n",
    "        t1.insert(END,data[word.upper()])\n",
    "        \n",
    "    elif len(get_close_matches(word,data.keys()))>0:\n",
    "        result=tkinter.messagebox.askyesno(title=\"message\",message=\"Did you mean %s instead? Enter Y if YES else N if NO \"%get_close_matches(word,data.keys())[0])\n",
    "        if result==True:\n",
    "            t1.insert(END,data[get_close_matches(word,data.keys())[0]])\n",
    "        elif result==False:\n",
    "            tkinter.messagebox.showinfo(title=\"message\",message=\"The word is not present \")\n",
    "        else:\n",
    "            tkinter.messagebox.showinfo(title=\"message\",message=\"We didn't understand your entry\")\n",
    "            print(result)\n",
    "    else:\n",
    "        messagebox.showinfo(title=\"message\",message=\"The word doesn't exist please enter valid info!!!!\")\n",
    "\n",
    "\n",
    "e1=Label(window,text=\"Enter the word\")\n",
    "e1.grid(row=0,column=0)\n",
    "\n",
    "e2_value=StringVar()            \n",
    "e2=Entry(window,textvariable=e2_value)\n",
    "e2.grid(row=0,column=1)\n",
    "\n",
    "e3=Label(window,text=\"RESULT\")\n",
    "e3.grid(row=1,column=0)\n",
    "\n",
    "b1=Button(window,text=\"search\",command=find_word)\n",
    "b1.grid(row=0,column=2)\n",
    "\n",
    "\n",
    "t1=Text(window,height=5,width=50)          \n",
    "t1.grid(row=1,column=2)\n",
    "\n",
    "window.mainloop()\n",
    "    "
   ]
  },
  {
   "cell_type": "raw",
   "id": "eae4b6f5",
   "metadata": {},
   "source": []
  },
  {
   "cell_type": "code",
   "execution_count": 38,
   "id": "3a01fabf",
   "metadata": {},
   "outputs": [],
   "source": [
    "\n"
   ]
  },
  {
   "cell_type": "code",
   "execution_count": null,
   "id": "e8c38e57",
   "metadata": {},
   "outputs": [],
   "source": []
  }
 ],
 "metadata": {
  "kernelspec": {
   "display_name": "Python 3 (ipykernel)",
   "language": "python",
   "name": "python3"
  },
  "language_info": {
   "codemirror_mode": {
    "name": "ipython",
    "version": 3
   },
   "file_extension": ".py",
   "mimetype": "text/x-python",
   "name": "python",
   "nbconvert_exporter": "python",
   "pygments_lexer": "ipython3",
   "version": "3.10.9"
  }
 },
 "nbformat": 4,
 "nbformat_minor": 5
}
